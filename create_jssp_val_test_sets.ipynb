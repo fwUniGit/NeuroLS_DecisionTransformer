{
 "cells": [
  {
   "cell_type": "markdown",
   "metadata": {
    "collapsed": true,
    "pycharm": {
     "name": "#%% md\n"
    }
   },
   "source": [
    "Creating Val and Test sets\n"
   ]
  },
  {
   "cell_type": "code",
   "execution_count": 1,
   "outputs": [],
   "source": [
    "%load_ext autoreload\n",
    "%autoreload 2\n"
   ],
   "metadata": {
    "collapsed": false,
    "pycharm": {
     "name": "#%%\n"
    }
   }
  },
  {
   "cell_type": "code",
   "execution_count": 2,
   "outputs": [
    {
     "name": "stdout",
     "output_type": "stream",
     "text": [
      "pytorch v: 1.10.0 (cuda: 11.3)\n",
      "tianshou v: 0.4.5\n"
     ]
    }
   ],
   "source": [
    "from lib.scheduling import JSSPGenerator\n"
   ],
   "metadata": {
    "collapsed": false,
    "pycharm": {
     "name": "#%%\n"
    }
   }
  },
  {
   "cell_type": "code",
   "execution_count": 3,
   "outputs": [],
   "source": [
    "# global\n",
    "VSEED = 123\n",
    "TSEED = 234\n",
    "PROBLEM = \"JSSP\"\n",
    "VSIZE = 512\n",
    "TSIZE = 1000\n",
    "NUM_JOB = [15, 20, 20, 30, 30, 50, 100]\n",
    "NUM_MCH = [15, 15, 20, 15, 20, 20, 20]\n",
    "\n",
    "# specific sampling args\n",
    "#dur_sampling_dist = \"gaussian_mixture\"\n",
    "dur_sampling_dist = \"uniform\"\n",
    "\n",
    "# save paths\n",
    "vname = f\"data_val_seed{VSEED}_size{VSIZE}_{dur_sampling_dist}.pt\"\n",
    "tname = f\"data_test_seed{TSEED}_size{TSIZE}_{dur_sampling_dist}.pt\""
   ],
   "metadata": {
    "collapsed": false,
    "pycharm": {
     "name": "#%%\n"
    }
   }
  },
  {
   "cell_type": "code",
   "execution_count": 4,
   "outputs": [],
   "source": [
    "for n_j, n_m in zip(NUM_JOB, NUM_MCH):\n",
    "    save_pth = f\"./data/{PROBLEM}/{PROBLEM.lower()}{n_j}x{n_m}\"\n",
    "\n",
    "    gen = JSSPGenerator(seed=VSEED, verbose=True)\n",
    "    val_data = gen.generate(problem=PROBLEM, sample_size=VSIZE, num_jobs=n_j, num_machines=n_m)\n",
    "    gen.save_dataset(val_data, filepath=save_pth, fname=vname)\n",
    "\n",
    "    gen.seed(seed=TSEED)\n",
    "    test_data = gen.generate(problem=PROBLEM, sample_size=TSIZE, num_jobs=n_j, num_machines=n_m)\n",
    "    gen.save_dataset(test_data, filepath=save_pth, fname=tname)\n"
   ],
   "metadata": {
    "collapsed": false,
    "pycharm": {
     "name": "#%%\n"
    }
   }
  },
  {
   "cell_type": "code",
   "execution_count": null,
   "outputs": [],
   "source": [],
   "metadata": {
    "collapsed": false,
    "pycharm": {
     "name": "#%%\n"
    }
   }
  }
 ],
 "metadata": {
  "kernelspec": {
   "display_name": "Python 3",
   "language": "python",
   "name": "python3"
  },
  "language_info": {
   "codemirror_mode": {
    "name": "ipython",
    "version": 2
   },
   "file_extension": ".py",
   "mimetype": "text/x-python",
   "name": "python",
   "nbconvert_exporter": "python",
   "pygments_lexer": "ipython2",
   "version": "2.7.6"
  }
 },
 "nbformat": 4,
 "nbformat_minor": 0
}